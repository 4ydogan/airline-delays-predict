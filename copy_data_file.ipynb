{
 "cells": [
  {
   "cell_type": "code",
   "execution_count": 1,
   "id": "d53a8d10",
   "metadata": {
    "scrolled": false
   },
   "outputs": [],
   "source": [
    "import csv\n",
    "import itertools\n",
    "\n",
    "\n",
    "def copy_csv_lines(input_file, output_file, num_lines):\n",
    "    lines = []\n",
    "    t = num_lines * 0.2\n",
    "    f = t\n",
    "    trues = 0\n",
    "    first = True\n",
    "    with open(input_file, 'r', newline='') as file:\n",
    "        reader = csv.reader(file)\n",
    "        lines_to_copy = list(itertools.islice(reader, num_lines))\n",
    "        \n",
    "        for line in lines_to_copy:\n",
    "                \n",
    "            if first:\n",
    "                lines.append(line)\n",
    "                first = False\n",
    "            \n",
    "            elif line[2] == '0' and f > 0:\n",
    "                lines.append(line)\n",
    "                f = f - 1\n",
    "                \n",
    "            elif line[2] == '1' and t > 0:\n",
    "                lines.append(line)\n",
    "                t = t - 1\n",
    "            \n",
    "    with open(output_file, 'w', newline='') as file:\n",
    "        writer = csv.writer(file)\n",
    "        writer.writerows(lines)\n",
    "\n",
    "# Usage example\n",
    "input_file = 'full_data_flightdelay.csv'\n",
    "output_file = 'full_data_flightdelay_homogeneous.csv'\n",
    "num_lines = 4500000\n",
    "\n",
    "copy_csv_lines(input_file, output_file, num_lines)"
   ]
  }
 ],
 "metadata": {
  "kernelspec": {
   "display_name": "Python 3 (ipykernel)",
   "language": "python",
   "name": "python3"
  },
  "language_info": {
   "codemirror_mode": {
    "name": "ipython",
    "version": 3
   },
   "file_extension": ".py",
   "mimetype": "text/x-python",
   "name": "python",
   "nbconvert_exporter": "python",
   "pygments_lexer": "ipython3",
   "version": "3.9.13"
  }
 },
 "nbformat": 4,
 "nbformat_minor": 5
}
